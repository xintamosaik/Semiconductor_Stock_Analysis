{
 "cells": [
  {
   "cell_type": "markdown",
   "id": "888684f5-0087-4b43-807f-8903b0a92a8f",
   "metadata": {},
   "source": [
    "## Retrieving and Preparing Stock Data with yfinance\n",
    "\n",
    "In this step, I use the `yfinance` library to extract historical stock data from the Yahoo Finance API. \n",
    "\n",
    "The data includes daily prices for major semiconductor companies from 2015 to 2023. \n",
    "\n",
    "This process involves data extraction, cleaning, and preparing time series data for analysis. \n",
    "\n",
    "The cleaned dataset will be used for trend analysis, financial metrics calculation, and data visualisation in later steps.\n",
    "\n"
   ]
  },
  {
   "cell_type": "code",
   "execution_count": 1,
   "id": "81c9c24f-bd41-449c-9536-9ba33d620906",
   "metadata": {},
   "outputs": [
    {
     "name": "stdout",
     "output_type": "stream",
     "text": [
      "Fetching data for NVDA...\n"
     ]
    },
    {
     "name": "stderr",
     "output_type": "stream",
     "text": [
      "[*********************100%***********************]  1 of 1 completed\n"
     ]
    },
    {
     "name": "stdout",
     "output_type": "stream",
     "text": [
      "Fetching data for INTC...\n"
     ]
    },
    {
     "name": "stderr",
     "output_type": "stream",
     "text": [
      "[*********************100%***********************]  1 of 1 completed\n"
     ]
    },
    {
     "name": "stdout",
     "output_type": "stream",
     "text": [
      "Fetching data for AMD...\n"
     ]
    },
    {
     "name": "stderr",
     "output_type": "stream",
     "text": [
      "[*********************100%***********************]  1 of 1 completed\n"
     ]
    },
    {
     "name": "stdout",
     "output_type": "stream",
     "text": [
      "Fetching data for QCOM...\n"
     ]
    },
    {
     "name": "stderr",
     "output_type": "stream",
     "text": [
      "[*********************100%***********************]  1 of 1 completed\n"
     ]
    },
    {
     "name": "stdout",
     "output_type": "stream",
     "text": [
      "Fetching data for TSM...\n"
     ]
    },
    {
     "name": "stderr",
     "output_type": "stream",
     "text": [
      "[*********************100%***********************]  1 of 1 completed"
     ]
    },
    {
     "name": "stdout",
     "output_type": "stream",
     "text": [
      "Data fetched and saved to 'semiconductor_stock_data.csv'\n"
     ]
    },
    {
     "name": "stderr",
     "output_type": "stream",
     "text": [
      "\n"
     ]
    }
   ],
   "source": [
    "import yfinance as yf\n",
    "import pandas as pd\n",
    "\n",
    "\n",
    "# List of semiconductor stock tickers\n",
    "tickers = ['NVDA', 'INTC', 'AMD', 'QCOM', 'TSM']\n",
    "\n",
    "# Set the time period for historical data (adjust as needed)\n",
    "start_date = '2015-01-01'\n",
    "end_date = '2023-12-31'\n",
    "\n",
    "# Dictionary to hold data for each stock\n",
    "stock_data = {}\n",
    "\n",
    "# Fetch data for each stock\n",
    "for ticker in tickers:\n",
    "    print(\"Fetching data for {}...\".format(ticker))\n",
    "    stock_data[ticker] = yf.download(ticker, start=start_date, end=end_date)\n",
    "\n",
    "# Combine data into a single DataFrame\n",
    "# Using adjusted close prices and aligning by date\n",
    "combined_data = pd.concat([stock_data[ticker]['Adj Close'].rename(ticker) for ticker in tickers], axis=1)\n",
    "\n",
    "# Save to CSV\n",
    "combined_data.to_csv('semiconductor_stock_data.csv')\n",
    "\n",
    "print(\"Data fetched and saved to 'semiconductor_stock_data.csv'\")"
   ]
  }
 ],
 "metadata": {
  "kernelspec": {
   "display_name": "Python (Poetry)",
   "language": "python",
   "name": "poetry-env"
  },
  "language_info": {
   "codemirror_mode": {
    "name": "ipython",
    "version": 3
   },
   "file_extension": ".py",
   "mimetype": "text/x-python",
   "name": "python",
   "nbconvert_exporter": "python",
   "pygments_lexer": "ipython3",
   "version": "3.12.1"
  }
 },
 "nbformat": 4,
 "nbformat_minor": 5
}
